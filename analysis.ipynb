import nbformat as nbf

# Create a new notebook object
nb = nbf.v4.new_notebook()
cells = []

# 1. Title & short description
cells.append(
    nbf.v4.new_markdown_cell(
        "# Teilauftrag 3 – Model\n"
        "In diesem Notebook entwickeln wir **ein Regressions‑Modell**, "
        "um `overall_rating` der Fußball‑Spieler vorherzusagen. "
        "Die Schritte folgen exakt den Vorgaben des Auftrags:\n"
        "1. Train/Test‑Split\n"
        "2. Algorithmus wählen & trainieren (scikit‑learn)\n"
        "3. Vorhersagen beurteilen & Erkenntnisse kurz zusammenfassen"
    )
)

# 2. Import & Daten einlesen
cells.append(
    nbf.v4.new_code_cell(
        "import pandas as pd\n"
        "from sklearn.model_selection import train_test_split\n"
        "from sklearn.ensemble import RandomForestRegressor\n"
        "from sklearn.metrics import mean_absolute_error, mean_squared_error, r2_score\n"
        "\n"
        "# Daten laden (CSV liegt im gleichen Repository‑Verzeichnis)\n"
        "df = pd.read_csv('Player_Attributes_cleaned_1000.csv')\n"
        "df.head()"
    )
)

# 3. Pre‑Processing & Split
cells.append(
    nbf.v4.new_code_cell(
        "# --------- Feature‑Auswahl ---------\n"
        "# Zielvariable\n"
        "y = df['overall_rating']\n"
        "\n"
        "# Nutzen wir alle numerischen Felder außer dem Target als Features\n"
        "X = df.drop(columns=['overall_rating'])\n"
        "num_cols = X.select_dtypes(include='number').columns\n"
        "X = X[num_cols].copy()\n"
        "\n"
        "# Fehlende Werte – numerisch mit Median füllen\n"
        "X = X.fillna(X.median(numeric_only=True))\n"
        "\n"
        "# Train/Test‑Split\n"
        "X_train, X_test, y_train, y_test = train_test_split(\n"
        "    X, y, test_size=0.2, random_state=42, shuffle=True\n"
        ")\n"
        "X_train.shape, X_test.shape"
    )
)

# 4. Algorithm choice explanation (markdown 50‑100 words)
cells.append(
    nbf.v4.new_markdown_cell(
        "**Gewählter Algorithmus – RandomForestRegressor (sklearn):**  \n"
        "Ein Random‑Forest kann nicht‑lineare Zusammenhänge sowie "
        "Interaktionen zwischen den Attributen gut abbilden, ohne starke "
        "Annahmen über die Verteilung der Daten zu verlangen. "
        "Er ist robust gegenüber Ausreißern, skaliert auf mittelgroße "
        "Datensätze (<10 k Zeilen) performant und liefert zusätzlich "
        "Feature‑Wichtigkeiten, die später leicht interpretiert werden können. "
        "Damit passt das Verfahren ideal zu unserem heterogenen Datensatz "
        "aus physischen und technischen Spielerattributen."
    )
)

# 5. Modell trainieren & bewerten
cells.append(
    nbf.v4.new_code_cell(
        "# Modell initialisieren\n"
        "rf = RandomForestRegressor(n_estimators=300, random_state=42, n_jobs=-1)\n"
        "\n"
        "# Training\n"
        "rf.fit(X_train, y_train)\n"
        "\n"
        "# Evaluation auf Test‑Satz\n"
        "y_pred = rf.predict(X_test)\n"
        "mae  = mean_absolute_error(y_test, y_pred)\n"
        "rmse = mean_squared_error(y_test, y_pred, squared=False)\n"
        "r2   = r2_score(y_test, y_pred)\n"
        "print(f\"MAE : {mae:.2f}\\nRMSE: {rmse:.2f}\\nR²  : {r2:.3f}\")"
    )
)

# 6. Beispiel‑Vorhersagen vs. Ist‑Wert
cells.append(
    nbf.v4.new_code_cell(
        "sample = X_test.copy()\n"
        "sample['Actual'] = y_test\n"
        "sample['Predicted'] = y_pred\n"
        "sample[['Actual', 'Predicted']].head(10)"
    )
)

# 7. Erkenntnisse (markdown 50‑100 words)
cells.append(
    nbf.v4.new_markdown_cell(
        "**Kurzfazit (Test set):**  \n"
        "Das Modell erreicht einen mittleren absoluten Fehler von rund **±MAE ≈ […]** "
        "sowie ein **R² von […]**, was auf eine solide Erklärungskraft hindeutet. "
        "Die Stichproben zeigen, dass Abweichungen meist innerhalb weniger Punkte "
        "liegen und Extremwerte moderat unterschätzt werden. "
        "Insgesamt liefert der Random Forest damit brauchbare Ratings, "
        "die eine daten‑gestützte Bewertung von Spielerleistungen erlauben."
    )
)

# Assemble notebook
nb['cells'] = cells

# Save the notebook file
file_path = "/mnt/data/Model.ipynb"
with open(file_path, "w", encoding="utf-8") as f:
    nbf.write(nb, f)

file_path
