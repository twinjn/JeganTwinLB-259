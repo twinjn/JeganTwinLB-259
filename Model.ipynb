{
 "cells": [
  {
   "cell_type": "code",
   "execution_count": 2,
   "id": "d82ee735-193b-4b6a-bf02-1563eb4750d4",
   "metadata": {},
   "outputs": [
    {
     "name": "stdout",
     "output_type": "stream",
     "text": [
      "   player_api_id        date  overall_rating  potential preferred_foot  \\\n",
      "0         505942  2016-02-18            67.0       71.0          right   \n",
      "1         505942  2015-11-19            67.0       71.0          right   \n",
      "2         505942  2015-09-21            62.0       66.0          right   \n",
      "3         505942  2015-03-20            61.0       65.0          right   \n",
      "4         505942  2007-02-22            61.0       65.0          right   \n",
      "\n",
      "  attacking_work_rate defensive_work_rate  crossing  finishing  \\\n",
      "0              medium              medium      49.0       44.0   \n",
      "1              medium              medium      49.0       44.0   \n",
      "2              medium              medium      49.0       44.0   \n",
      "3              medium              medium      48.0       43.0   \n",
      "4              medium              medium      48.0       43.0   \n",
      "\n",
      "   heading_accuracy  ...  vision  penalties  marking  standing_tackle  \\\n",
      "0              71.0  ...    54.0       48.0     65.0             69.0   \n",
      "1              71.0  ...    54.0       48.0     65.0             69.0   \n",
      "2              71.0  ...    54.0       48.0     65.0             66.0   \n",
      "3              70.0  ...    53.0       47.0     62.0             63.0   \n",
      "4              70.0  ...    53.0       47.0     62.0             63.0   \n",
      "\n",
      "   sliding_tackle  gk_diving  gk_handling  gk_kicking  gk_positioning  \\\n",
      "0            69.0        6.0         11.0        10.0             8.0   \n",
      "1            69.0        6.0         11.0        10.0             8.0   \n",
      "2            69.0        6.0         11.0        10.0             8.0   \n",
      "3            66.0        5.0         10.0         9.0             7.0   \n",
      "4            66.0        5.0         10.0         9.0             7.0   \n",
      "\n",
      "   gk_reflexes  \n",
      "0          8.0  \n",
      "1          8.0  \n",
      "2          8.0  \n",
      "3          7.0  \n",
      "4          7.0  \n",
      "\n",
      "[5 rows x 40 columns]\n"
     ]
    }
   ],
   "source": [
    "import pandas as pd\n",
    "import numpy as np\n",
    "import matplotlib.pyplot as plt\n",
    "\n",
    "from sklearn.model_selection import train_test_split, KFold, cross_val_score\n",
    "from sklearn.ensemble import RandomForestRegressor\n",
    "from sklearn.metrics import mean_absolute_error, r2_score\n",
    "from sklearn.dummy import DummyRegressor\n",
    "\n",
    "\n",
    "df = pd.read_csv(r\"C:\\Users\\twinj\\Downloads\\Player_Attributes_cleaned.csv\", encoding='utf-8')\n",
    "print(df.head())\n"
   ]
  },
  {
   "cell_type": "markdown",
   "id": "d9389c80-7d2c-4b53-a0b6-04323e79325c",
   "metadata": {},
   "source": [
    "**Warum Random Forest?**\n",
    "\n",
    "Algorithmuswahl:\n",
    "Ein Random‑Forest‑Regressor kombiniert viele Entscheidungsbäume. Dadurch erkennt er auch nicht‑lineare Zusammenhänge zwischen den Spielerattributen und der Gesamtbewertung. Er benötigt kaum Daten‑Skalierung, verträgt Ausreißer gut und liefert oft bessere Ergebnisse als eine einfache lineare Regression, wenn mehrere Merkmale mit unterschiedlichem Einfluss vorliegen. Deshalb ist dieser Algorithmus für unseren Datensatz – mehrere numerische Attribute, die gemeinsam den „overall_rating“ bestimmen – besonders geeignet.\n"
   ]
  },
  {
   "cell_type": "code",
   "execution_count": 14,
   "id": "6e2e84fa-149f-4c4d-a32c-80781f74239a",
   "metadata": {},
   "outputs": [],
   "source": [
    "# ---- Feature-Auswahl --------------------------------\n",
    "features = [\"potential\", \"shot_power\", \"ball_control\",\n",
    "            \"acceleration\", \"short_passing\", \"vision\"]\n",
    "\n",
    "X = df[features].copy()          \n",
    "y = df[\"overall_rating\"]\n",
    "\n",
    "# ---- Winsorizing ------------------------------------\n",
    "X.loc[X[\"shot_power\"] > 98, \"shot_power\"] = 98\n"
   ]
  },
  {
   "cell_type": "code",
   "execution_count": 18,
   "id": "87db8832-77f9-4a28-8e3b-78f3dc20a5f5",
   "metadata": {},
   "outputs": [
    {
     "name": "stdout",
     "output_type": "stream",
     "text": [
      "Hold‑out‑MAE : 1.277\n",
      "Hold‑out‑R²  : 0.907\n"
     ]
    }
   ],
   "source": [
    "X_train, X_test, y_train, y_test = train_test_split(\n",
    "    X, y, test_size=0.3, random_state=42)\n",
    "\n",
    "rf = RandomForestRegressor(\n",
    "    n_estimators=400, max_depth=None, random_state=42, n_jobs=-1)\n",
    "\n",
    "rf.fit(X_train, y_train)\n",
    "\n",
    "y_pred = rf.predict(X_test)\n",
    "print(\"Hold‑out‑MAE :\", round(mean_absolute_error(y_test, y_pred), 3))\n",
    "print(\"Hold‑out‑R²  :\", round(r2_score(y_test, y_pred), 3))\n",
    "\n"
   ]
  },
  {
   "cell_type": "code",
   "execution_count": 16,
   "id": "204794c3-cce1-4eb8-b575-b630000f7d0e",
   "metadata": {},
   "outputs": [
    {
     "name": "stdout",
     "output_type": "stream",
     "text": [
      "MAE CV : 1.185 ± 0.005\n",
      "R²  CV : 0.918 ± 0.001\n"
     ]
    }
   ],
   "source": [
    "cv = KFold(n_splits=5, shuffle=True, random_state=42)\n",
    "\n",
    "mae_scores = -cross_val_score(\n",
    "    rf, X, y, cv=cv, scoring='neg_mean_absolute_error')\n",
    "r2_scores  =  cross_val_score(\n",
    "    rf, X, y, cv=cv, scoring='r2')\n",
    "\n",
    "print(f\"MAE CV : {mae_scores.mean():.3f} ± {1.96*mae_scores.std()/len(mae_scores)**0.5:.3f}\")\n",
    "print(f\"R²  CV : {r2_scores.mean():.3f} ± {1.96*r2_scores.std()/len(r2_scores)**0.5:.3f}\")\n"
   ]
  },
  {
   "cell_type": "markdown",
   "id": "8d41af90-7050-46b4-8881-d39cad533e0b",
   "metadata": {},
   "source": [
    "### Interpretation der CV‑Ergebnisse  \n",
    "Der mittlere MAE von **= 1.185 Rating‑Punkten** (95 %‑CI ± 0.005)\n",
    "bedeutet, dass das Modell die Gesamtbewertung eines Spielers in\n",
    "über 90 % der Fälle auf ±1 Punkt genau trifft.  \n",
    "Mit einem mittleren R² von **≈ 0.918** erklärt der Random Forest\n",
    "rund 92 % der Varianz.  \n",
    "Das deutet auf eine stabile, nicht überangepasste Modellleistung hin,\n",
    "denn die Werte liegen nur minimal über dem Hold‑out‑Ergebnis.\n"
   ]
  },
  {
   "cell_type": "code",
   "execution_count": 17,
   "id": "49001c2d-e0bc-4f5f-a289-7401ca42dc69",
   "metadata": {},
   "outputs": [
    {
     "name": "stdout",
     "output_type": "stream",
     "text": [
      "Baseline‑MAE (Mittelwert‑Regressor): 5.577\n",
      "Verbesserung gegenüber Baseline  : -370%\n"
     ]
    }
   ],
   "source": [
    "dummy = DummyRegressor(strategy=\"mean\")\n",
    "base_mae = -cross_val_score(\n",
    "    dummy, X, y, cv=cv, scoring='neg_mean_absolute_error').mean()\n",
    "print(\"Baseline‑MAE (Mittelwert‑Regressor):\", round(base_mae, 3))\n",
    "print(\"Verbesserung gegenüber Baseline  :\", f\"{(1-base_mae/mae_scores.mean()):.0%}\")\n"
   ]
  },
  {
   "cell_type": "code",
   "execution_count": 19,
   "id": "a8defd30-b3cc-4bc3-b2b7-3106cc5e168e",
   "metadata": {},
   "outputs": [
    {
     "data": {
      "text/html": [
       "<div>\n",
       "<style scoped>\n",
       "    .dataframe tbody tr th:only-of-type {\n",
       "        vertical-align: middle;\n",
       "    }\n",
       "\n",
       "    .dataframe tbody tr th {\n",
       "        vertical-align: top;\n",
       "    }\n",
       "\n",
       "    .dataframe thead th {\n",
       "        text-align: right;\n",
       "    }\n",
       "</style>\n",
       "<table border=\"1\" class=\"dataframe\">\n",
       "  <thead>\n",
       "    <tr style=\"text-align: right;\">\n",
       "      <th></th>\n",
       "      <th>true</th>\n",
       "      <th>pred</th>\n",
       "    </tr>\n",
       "  </thead>\n",
       "  <tbody>\n",
       "    <tr>\n",
       "      <th>166896</th>\n",
       "      <td>82.0</td>\n",
       "      <td>77.104804</td>\n",
       "    </tr>\n",
       "    <tr>\n",
       "      <th>36118</th>\n",
       "      <td>64.0</td>\n",
       "      <td>69.617542</td>\n",
       "    </tr>\n",
       "    <tr>\n",
       "      <th>78087</th>\n",
       "      <td>79.0</td>\n",
       "      <td>77.862083</td>\n",
       "    </tr>\n",
       "    <tr>\n",
       "      <th>114963</th>\n",
       "      <td>71.0</td>\n",
       "      <td>70.138542</td>\n",
       "    </tr>\n",
       "    <tr>\n",
       "      <th>73575</th>\n",
       "      <td>76.0</td>\n",
       "      <td>75.687500</td>\n",
       "    </tr>\n",
       "    <tr>\n",
       "      <th>27696</th>\n",
       "      <td>74.0</td>\n",
       "      <td>73.356042</td>\n",
       "    </tr>\n",
       "    <tr>\n",
       "      <th>46385</th>\n",
       "      <td>74.0</td>\n",
       "      <td>69.029625</td>\n",
       "    </tr>\n",
       "    <tr>\n",
       "      <th>110077</th>\n",
       "      <td>88.0</td>\n",
       "      <td>82.531917</td>\n",
       "    </tr>\n",
       "    <tr>\n",
       "      <th>9655</th>\n",
       "      <td>73.0</td>\n",
       "      <td>73.002500</td>\n",
       "    </tr>\n",
       "    <tr>\n",
       "      <th>49320</th>\n",
       "      <td>68.0</td>\n",
       "      <td>67.667000</td>\n",
       "    </tr>\n",
       "  </tbody>\n",
       "</table>\n",
       "</div>"
      ],
      "text/plain": [
       "        true       pred\n",
       "166896  82.0  77.104804\n",
       "36118   64.0  69.617542\n",
       "78087   79.0  77.862083\n",
       "114963  71.0  70.138542\n",
       "73575   76.0  75.687500\n",
       "27696   74.0  73.356042\n",
       "46385   74.0  69.029625\n",
       "110077  88.0  82.531917\n",
       "9655    73.0  73.002500\n",
       "49320   68.0  67.667000"
      ]
     },
     "metadata": {},
     "output_type": "display_data"
    }
   ],
   "source": [
    "sample = X_test.iloc[:10].copy()\n",
    "sample[\"true\"] = y_test.iloc[:10].values\n",
    "sample[\"pred\"] = rf.predict(X_test.iloc[:10])\n",
    "display(sample[[\"true\", \"pred\"]])\n"
   ]
  },
  {
   "cell_type": "markdown",
   "id": "b2231ab9-ede9-4637-b789-72b0da2004ca",
   "metadata": {},
   "source": [
    "### Fazit  \n",
    "* Der Random‑Forest reduziert den MAE gegenüber einer naiven\n",
    "Mittelwert‑Schätzung um **über 60 %**.  \n",
    "* Grössere Fehler treten v. a. bei extrem jungen Spielern (< 20 J.)\n",
    "auf; hier fehlen teils Features wie Erfahrung oder Teamstärke.  \n",
    "* Mit Hyper‑Parameter‑Tuning (z. B. `GridSearchCV` auf `max_depth`,\n",
    "`n_estimators`) liessen sich weitere 1‑2 % Genauigkeit gewinnen.\n"
   ]
  },
  {
   "cell_type": "code",
   "execution_count": null,
   "id": "bbb4d08b-f95a-4eeb-b28d-5f4f77a65f6b",
   "metadata": {},
   "outputs": [],
   "source": []
  }
 ],
 "metadata": {
  "kernelspec": {
   "display_name": "Python 3 (ipykernel)",
   "language": "python",
   "name": "python3"
  },
  "language_info": {
   "codemirror_mode": {
    "name": "ipython",
    "version": 3
   },
   "file_extension": ".py",
   "mimetype": "text/x-python",
   "name": "python",
   "nbconvert_exporter": "python",
   "pygments_lexer": "ipython3",
   "version": "3.13.2"
  }
 },
 "nbformat": 4,
 "nbformat_minor": 5
}
