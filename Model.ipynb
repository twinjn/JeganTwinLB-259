{
 "cells": [
  {
   "cell_type": "code",
   "execution_count": 1,
   "id": "e8f867c6-19ae-4acc-bb35-35e28a7c6d30",
   "metadata": {},
   "outputs": [
    {
     "name": "stdout",
     "output_type": "stream",
     "text": [
      "   player_api_id        date  overall_rating  potential preferred_foot  \\\n",
      "0         505942  2016-02-18            67.0       71.0          right   \n",
      "1         505942  2015-11-19            67.0       71.0          right   \n",
      "2         505942  2015-09-21            62.0       66.0          right   \n",
      "3         505942  2015-03-20            61.0       65.0          right   \n",
      "4         505942  2007-02-22            61.0       65.0          right   \n",
      "\n",
      "  attacking_work_rate defensive_work_rate  crossing  finishing  \\\n",
      "0              medium              medium      49.0       44.0   \n",
      "1              medium              medium      49.0       44.0   \n",
      "2              medium              medium      49.0       44.0   \n",
      "3              medium              medium      48.0       43.0   \n",
      "4              medium              medium      48.0       43.0   \n",
      "\n",
      "   heading_accuracy  ...  vision  penalties  marking  standing_tackle  \\\n",
      "0              71.0  ...    54.0       48.0     65.0             69.0   \n",
      "1              71.0  ...    54.0       48.0     65.0             69.0   \n",
      "2              71.0  ...    54.0       48.0     65.0             66.0   \n",
      "3              70.0  ...    53.0       47.0     62.0             63.0   \n",
      "4              70.0  ...    53.0       47.0     62.0             63.0   \n",
      "\n",
      "   sliding_tackle  gk_diving  gk_handling  gk_kicking  gk_positioning  \\\n",
      "0            69.0        6.0         11.0        10.0             8.0   \n",
      "1            69.0        6.0         11.0        10.0             8.0   \n",
      "2            69.0        6.0         11.0        10.0             8.0   \n",
      "3            66.0        5.0         10.0         9.0             7.0   \n",
      "4            66.0        5.0         10.0         9.0             7.0   \n",
      "\n",
      "   gk_reflexes  \n",
      "0          8.0  \n",
      "1          8.0  \n",
      "2          8.0  \n",
      "3          7.0  \n",
      "4          7.0  \n",
      "\n",
      "[5 rows x 40 columns]\n"
     ]
    }
   ],
   "source": [
    "import pandas as pd\n",
    "import matplotlib.pyplot as plt\n",
    "\n",
    "from sklearn.model_selection import train_test_split\n",
    "from sklearn.ensemble import RandomForestRegressor          # das Modell\n",
    "from sklearn.metrics import mean_absolute_error, r2_score   # Kennzahlen\n",
    "import pandas as pd\n",
    "\n",
    "df = pd.read_csv(r\"C:\\Users\\twinj\\Downloads\\Player_Attributes_cleaned.csv\", encoding='utf-8')\n",
    "print(df.head())"
   ]
  },
  {
   "cell_type": "code",
   "execution_count": 2,
   "id": "5a7cbdfc-1257-4c1e-b939-48509bd7c10f",
   "metadata": {},
   "outputs": [
    {
     "name": "stdout",
     "output_type": "stream",
     "text": [
      "Train‑Größe: (128199, 7),  Test‑Größe: (54943, 7)\n"
     ]
    }
   ],
   "source": [
    "# === 1. Zielvariable (y) =========================\n",
    "y = df[\"overall_rating\"]\n",
    "\n",
    "# === 2. Eingabedaten (X) =========================\n",
    "# wir nehmen mehrere sinnvolle Attribute:\n",
    "features = [\"potential\", \"dribbling\", \"finishing\", \"short_passing\",\n",
    "            \"volleys\", \"acceleration\", \"shot_power\"]\n",
    "X = df[features]\n",
    "\n",
    "# === 3. Train‑ und Test‑Daten aufteilen ==========\n",
    "X_train, X_test, y_train, y_test = train_test_split(\n",
    "    X, y, test_size=0.3, random_state=42)\n",
    "\n",
    "print(f\"Train‑Größe: {X_train.shape},  Test‑Größe: {X_test.shape}\")\n"
   ]
  },
  {
   "cell_type": "code",
   "execution_count": 3,
   "id": "3391734f-6be1-4c2c-bfbf-bef05bf6a860",
   "metadata": {},
   "outputs": [
    {
     "name": "stdout",
     "output_type": "stream",
     "text": [
      "Training abgeschlossen.\n"
     ]
    }
   ],
   "source": [
    "# === 4. Modell anlegen ===========================\n",
    "rf_model = RandomForestRegressor(\n",
    "    n_estimators=200,      # Anzahl Bäume\n",
    "    random_state=42,\n",
    "    n_jobs=-1)             # nutzt alle CPU‑Kerne\n",
    "\n",
    "# === 5. Modell trainieren ========================\n",
    "rf_model.fit(X_train, y_train)\n",
    "print(\"Training abgeschlossen.\")\n"
   ]
  },
  {
   "cell_type": "code",
   "execution_count": 4,
   "id": "7523ddce-caa6-42ef-ace1-be02c85a2b40",
   "metadata": {},
   "outputs": [
    {
     "name": "stdout",
     "output_type": "stream",
     "text": [
      "Mittlerer absoluter Fehler (MAE): 1.13\n",
      "Erklärte Varianz (R²):            0.922\n"
     ]
    }
   ],
   "source": [
    "# === 6. Vorhersagen =================================\n",
    "y_pred = rf_model.predict(X_test)\n",
    "\n",
    "# === 7. Güte prüfen =================================\n",
    "mae  = mean_absolute_error(y_test, y_pred)\n",
    "r2   = r2_score(y_test, y_pred)\n",
    "\n",
    "print(f\"Mittlerer absoluter Fehler (MAE): {mae:.2f}\")\n",
    "print(f\"Erklärte Varianz (R²):            {r2:.3f}\")\n"
   ]
  },
  {
   "cell_type": "code",
   "execution_count": 5,
   "id": "e45f9ad7-83b7-4bee-97d0-e616e907d26e",
   "metadata": {},
   "outputs": [
    {
     "name": "stdout",
     "output_type": "stream",
     "text": [
      "        Potential  Tatsächlich  Vorhergesagt\n",
      "166896       82.0         82.0     78.914167\n",
      "36118        79.0         64.0     72.564250\n",
      "78087        79.0         79.0     77.947976\n",
      "114963       71.0         71.0     69.969167\n",
      "73575        76.0         76.0     76.375000\n",
      "27696        84.0         74.0     72.708333\n",
      "46385        74.0         74.0     69.748500\n",
      "110077       87.0         88.0     82.472143\n",
      "9655         73.0         73.0     73.000000\n",
      "49320        68.0         68.0     67.033333\n"
     ]
    }
   ],
   "source": [
    "vergleich = pd.DataFrame({\n",
    "    \"Potential\": X_test[\"potential\"].head(10),\n",
    "    \"Tatsächlich\": y_test.head(10).values,\n",
    "    \"Vorhergesagt\": y_pred[:10]\n",
    "})\n",
    "print(vergleich)\n"
   ]
  },
  {
   "cell_type": "code",
   "execution_count": null,
   "id": "917776e2-ed0b-4dcb-b4ea-fd0249139bf7",
   "metadata": {},
   "outputs": [],
   "source": []
  }
 ],
 "metadata": {
  "kernelspec": {
   "display_name": "Python 3 (ipykernel)",
   "language": "python",
   "name": "python3"
  },
  "language_info": {
   "codemirror_mode": {
    "name": "ipython",
    "version": 3
   },
   "file_extension": ".py",
   "mimetype": "text/x-python",
   "name": "python",
   "nbconvert_exporter": "python",
   "pygments_lexer": "ipython3",
   "version": "3.13.2"
  }
 },
 "nbformat": 4,
 "nbformat_minor": 5
}
